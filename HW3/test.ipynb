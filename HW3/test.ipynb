{
 "cells": [
  {
   "cell_type": "code",
   "execution_count": 17,
   "metadata": {},
   "outputs": [
    {
     "name": "stdout",
     "output_type": "stream",
     "text": [
      "tensor([4., 4., 4., 4., 4.])\n",
      "torch.Size([4, 4, 3])\n",
      "tensor([[1.0000, 1.0000, 0.1000],\n",
      "        [1.0000, 2.0000, 0.4000],\n",
      "        [1.0000, 3.0000, 0.7000],\n",
      "        [1.0000, 4.0000, 0.8000],\n",
      "        [2.0000, 1.0000, 0.1000],\n",
      "        [2.0000, 2.0000, 0.9000],\n",
      "        [2.0000, 3.0000, 0.6000],\n",
      "        [2.0000, 4.0000, 0.3000],\n",
      "        [3.0000, 1.0000, 1.0000],\n",
      "        [3.0000, 2.0000, 0.1000],\n",
      "        [3.0000, 3.0000, 0.6000],\n",
      "        [3.0000, 4.0000, 0.5000],\n",
      "        [4.0000, 1.0000, 1.0000],\n",
      "        [4.0000, 2.0000, 0.1000],\n",
      "        [4.0000, 3.0000, 0.2000],\n",
      "        [4.0000, 4.0000, 0.1000]])\n",
      "tensor(2.)\n",
      "tensor([12,  8,  5,  3])\n"
     ]
    }
   ],
   "source": [
    "import torch\n",
    "beams = 4\n",
    "b_tag = torch.ones((5)) * beams\n",
    "print(b_tag)\n",
    "b = torch.tensor([[1, 1, 1, 1], [2, 2, 2, 2], [3, 3, 3, 3], [4, 4, 4, 4]])\n",
    "x = torch.tensor([[1, 2, 3, 4], [1, 2, 3, 4], [1, 2, 3, 4], [1, 2, 3, 4]])\n",
    "y = torch.tensor([[0.1, 0.4, 0.7, 0.8], [0.1, 0.9, 0.6, 0.3], [1, 0.1, 0.6, 0.5], [1, 0.1, 0.2, 0.1]])\n",
    "z = torch.stack((b,x,y), dim=-1)\n",
    "\n",
    "# print(z)\n",
    "# print(torch.flatten(z, start_dim=0, end_dim=1))\n",
    "print(z.size())\n",
    "\n",
    "flat_z = torch.flatten(z, start_dim=0, end_dim=1)\n",
    "\n",
    "print(flat_z)\n",
    "\n",
    "beam, idx, prob = flat_z[4]\n",
    "\n",
    "print(beam)\n",
    "\n",
    "top_k, top_k_idx = torch.topk(flat_z[:,-1], 4)\n",
    "\n",
    "#top_k, top_k_idx = torch.topk(z[:,:,-1], 4)\n",
    "\n",
    "\n",
    "print(top_k_idx)"
   ]
  }
 ],
 "metadata": {
  "kernelspec": {
   "display_name": "AI539_env",
   "language": "python",
   "name": "python3"
  },
  "language_info": {
   "codemirror_mode": {
    "name": "ipython",
    "version": 3
   },
   "file_extension": ".py",
   "mimetype": "text/x-python",
   "name": "python",
   "nbconvert_exporter": "python",
   "pygments_lexer": "ipython3",
   "version": "3.10.12"
  }
 },
 "nbformat": 4,
 "nbformat_minor": 2
}
